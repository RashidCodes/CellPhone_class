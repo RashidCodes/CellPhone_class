{
 "cells": [
  {
   "cell_type": "markdown",
   "metadata": {},
   "source": [
    "## Creating the CellPhone class\n",
    "Rujiinjaka is a business that sells cell phones and wireless service. My team of prgrammers have decided to manage all the of cell phones that are in the inventory. I have been asked to design a class that represents a cell phone."
   ]
  },
  {
   "cell_type": "markdown",
   "metadata": {},
   "source": [
    "PS. placing an underscore before an instance variable prevents code outside of the class from modifying it."
   ]
  },
  {
   "cell_type": "code",
   "execution_count": 11,
   "metadata": {},
   "outputs": [],
   "source": [
    "class CellPhone:\n",
    "    ## let's initialize the attributes of the class\n",
    "    def __init__(self, manufact, model, price):\n",
    "        self.__manufact = manufact\n",
    "        self.__model = model\n",
    "        self.__retail_price = price\n",
    "        \n",
    "    \n",
    "    ## hopefully, the mutator method names are self explanatory\n",
    "    def set_manufact(self, manufact):\n",
    "        self.__manufact = manufact\n",
    "\n",
    "    def set_model(self, model):\n",
    "        self.__model = model\n",
    "\n",
    "    def set_retail_price(self, price):\n",
    "        self.__retail_price = price\n",
    "\n",
    "    ## accessor methods\n",
    "    def get_manufact(self):\n",
    "        return self.__manufact\n",
    "\n",
    "    def get_model(self):\n",
    "        return self.__model\n",
    "\n",
    "    def get_retail_price(self):\n",
    "        return self.__retail_price"
   ]
  },
  {
   "cell_type": "markdown",
   "metadata": {},
   "source": [
    "Let's test the CellPhone class"
   ]
  },
  {
   "cell_type": "code",
   "execution_count": 9,
   "metadata": {},
   "outputs": [],
   "source": [
    "def main_1():\n",
    "    ## Get the phone data.\n",
    "    man = input('Enter the manufacturer: ')\n",
    "    mod = input('Enter the model number: ')\n",
    "    retail = float(input('Enter the retail price: '))\n",
    "    print('\\n')\n",
    "    \n",
    "    # let's now create an instance of the cellphone class\n",
    "    phone = CellPhone(manufact=man, model=mod, price=retail)\n",
    "    \n",
    "    ## let's display the data that was entered.\n",
    "    ## we use the getters\n",
    "    print('This is the data you entered:')\n",
    "    print('Manufacturer:', phone.get_manufact())\n",
    "    print('Model Number:', phone.get_model())\n",
    "    print('Retail Price: $', format(phone.get_retail_price(), ',.2f'), sep='')\n",
    "    \n"
   ]
  },
  {
   "cell_type": "markdown",
   "metadata": {},
   "source": [
    "Let's call the main() method."
   ]
  },
  {
   "cell_type": "code",
   "execution_count": 10,
   "metadata": {},
   "outputs": [
    {
     "name": "stdin",
     "output_type": "stream",
     "text": [
      "Enter the manufacturer:  Acme Electronics\n",
      "Enter the model number:  M1000\n",
      "Enter the retail price:  199.99\n"
     ]
    },
    {
     "name": "stdout",
     "output_type": "stream",
     "text": [
      "\n",
      "\n",
      "This is the data you entered:\n",
      "Manufacturer: Acme Electronics\n",
      "Model Number: M1000\n",
      "Retail Price: $199.99\n"
     ]
    }
   ],
   "source": [
    "main_1()"
   ]
  },
  {
   "cell_type": "markdown",
   "metadata": {},
   "source": [
    "Great, now let's store varieties of cellphones in a list for future use."
   ]
  },
  {
   "cell_type": "code",
   "execution_count": 16,
   "metadata": {},
   "outputs": [],
   "source": [
    "def main_2():\n",
    "    ## Get a list of CellPhone objects.\n",
    "    phones = make_list()\n",
    "    \n",
    "    ## Display the data in the list.\n",
    "    print('Here is the data you entered:')\n",
    "    \n",
    "    display_list(phones)\n",
    "    \n",
    "\n",
    "def make_list():\n",
    "    # Create an empty list\n",
    "    phone_list = []\n",
    "    \n",
    "    ## Add five CellPhone objects to the list.\n",
    "    print('Enter data for five phones.')\n",
    "    print('\\n')\n",
    "    for count in range(1, 6):\n",
    "        ## Get the phone data\n",
    "        print('Phone number '+ str(count) + ':')\n",
    "        man = input('Enter the manufacturer: ')\n",
    "        mod = input('Enter the model number: ')\n",
    "        retail = float(input('Enter the retail price: '))\n",
    "        print('\\n')\n",
    "        \n",
    "        ## Create a new cellphone object in memory and assign it to the cellphone variable\n",
    "        phone = CellPhone(man, mod, retail)\n",
    "        \n",
    "        ## Add the object to the list\n",
    "        phone_list.append(phone)\n",
    "        \n",
    "    ## return the phone list\n",
    "    return phone_list\n",
    "\n",
    "\n",
    "\n",
    "## The display_list function accepts a list containing CellPhone objects as an argument and \n",
    "## displays the data stored in each object.\n",
    "def display_list(phone_list):\n",
    "    for item in phone_list:\n",
    "        print(item.get_manufact())\n",
    "        print(item.get_model())\n",
    "        print(item.get_retail_price())\n",
    "        print()\n",
    "        "
   ]
  },
  {
   "cell_type": "markdown",
   "metadata": {},
   "source": [
    "Let's call the main_2 function\n"
   ]
  },
  {
   "cell_type": "code",
   "execution_count": null,
   "metadata": {},
   "outputs": [],
   "source": [
    "main_2()"
   ]
  },
  {
   "cell_type": "markdown",
   "metadata": {},
   "source": [
    "## Pickling your Own Objects\n",
    "The pickle module's dump function serializes (pickles) an object and writes it to a file, and the load function retrieves an object from a file and deserializes it."
   ]
  },
  {
   "cell_type": "code",
   "execution_count": 12,
   "metadata": {},
   "outputs": [],
   "source": [
    "import pickle\n",
    "\n",
    "# Constant for the filename.\n",
    "FILENAME = 'cellphone.dat'\n",
    "\n",
    "def main_3():\n",
    "    ## Initialize a variable to control the loop.\n",
    "    again = 'y'\n",
    "    \n",
    "    ## Open a file\n",
    "    output_file = open(FILENAME, 'wb')\n",
    "    \n",
    "    ## Get the data from the user.\n",
    "    while again.lower() == 'y':\n",
    "        ## Get the cell phone data\n",
    "        man = input('Enter the manufacturer: ')\n",
    "        mod = input('Enter the model number: ')\n",
    "        retail = float(input('Enter the retail price: '))\n",
    "        \n",
    "        ## create the cell phone object\n",
    "        phone = CellPhone(man, mod, retail)\n",
    "        \n",
    "        ## pickle the object and write it to the file\n",
    "        pickle.dump(phone, output_file)\n",
    "        \n",
    "        ## Get more cellphone data?\n",
    "        again = input('Enter more phone data? (y/n): ')\n",
    "        \n",
    "    ## close the file\n",
    "    output_file.close()\n",
    "    print('The data was written to', FILENAME)\n",
    "    \n",
    "\n"
   ]
  },
  {
   "cell_type": "markdown",
   "metadata": {},
   "source": [
    "Let's now call our main_3() method\n"
   ]
  },
  {
   "cell_type": "code",
   "execution_count": 13,
   "metadata": {},
   "outputs": [
    {
     "name": "stdout",
     "output_type": "stream",
     "text": [
      "Enter the manufacturer: ACME Electronic Systems\n",
      "Enter the model number: M1000\n",
      "Enter the retail price: 199.99\n",
      "Enter more phone data? (y/n): y\n",
      "Enter the manufacturer: Sonic Systems\n",
      "Enter the model number: X99\n",
      "Enter the retail price: 299.99\n",
      "Enter more phone data? (y/n): n\n",
      "The data was written to cellphone.dat\n"
     ]
    }
   ],
   "source": [
    "main_3()"
   ]
  },
  {
   "cell_type": "code",
   "execution_count": 14,
   "metadata": {},
   "outputs": [],
   "source": [
    "## Unpickling the CellPhone objects\n",
    "import pickle\n",
    "\n",
    "## Constant for the filename\n",
    "FILENAME = 'cellphone.dat'\n",
    "\n",
    "def main_4():\n",
    "    ## to indicate the end of a file.\n",
    "    end_of_file = False\n",
    "    \n",
    "    ## Open the file.\n",
    "    input_file = open(FILENAME, 'rb')\n",
    "    \n",
    "    ## Read to the end of the file.\n",
    "    while not end_of_file:\n",
    "        try:\n",
    "            ## Unpickle the next object\n",
    "            phone = pickle.load(input_file)\n",
    "            \n",
    "            ## Display the cellphone data\n",
    "            display_data(phone)\n",
    "        \n",
    "        except EOFError:\n",
    "            ## Set the flag to indicate the end of the file has been reached.\n",
    "            end_of_file = True\n",
    "            \n",
    "    # Close the file\n",
    "    input_file.close()\n",
    "    \n",
    "    \n",
    "def display_data(phone):\n",
    "    print('Manufacturer: ', phone.get_manufact())\n",
    "    print('Model Number: ', phone.get_model())\n",
    "    print('Retail Price: $', format(phone.get_retail_price(), ',.2f'), sep='')\n",
    "    print()\n"
   ]
  },
  {
   "cell_type": "code",
   "execution_count": 15,
   "metadata": {},
   "outputs": [
    {
     "name": "stdout",
     "output_type": "stream",
     "text": [
      "Manufacturer:  ACME Electronic Systems\n",
      "Model Number:  M1000\n",
      "Retail Price: $199.99\n",
      "\n",
      "Manufacturer:  Sonic Systems\n",
      "Model Number:  X99\n",
      "Retail Price: $299.99\n",
      "\n"
     ]
    }
   ],
   "source": [
    "main_4()"
   ]
  },
  {
   "cell_type": "code",
   "execution_count": null,
   "metadata": {},
   "outputs": [],
   "source": []
  }
 ],
 "metadata": {
  "kernelspec": {
   "display_name": "Python 3",
   "language": "python",
   "name": "python3"
  },
  "language_info": {
   "codemirror_mode": {
    "name": "ipython",
    "version": 3
   },
   "file_extension": ".py",
   "mimetype": "text/x-python",
   "name": "python",
   "nbconvert_exporter": "python",
   "pygments_lexer": "ipython3",
   "version": "3.6.6"
  },
  "toc": {
   "base_numbering": 1,
   "nav_menu": {},
   "number_sections": true,
   "sideBar": true,
   "skip_h1_title": false,
   "title_cell": "Table of Contents",
   "title_sidebar": "Contents",
   "toc_cell": false,
   "toc_position": {},
   "toc_section_display": true,
   "toc_window_display": false
  },
  "varInspector": {
   "cols": {
    "lenName": 16,
    "lenType": 16,
    "lenVar": 40
   },
   "kernels_config": {
    "python": {
     "delete_cmd_postfix": "",
     "delete_cmd_prefix": "del ",
     "library": "var_list.py",
     "varRefreshCmd": "print(var_dic_list())"
    },
    "r": {
     "delete_cmd_postfix": ") ",
     "delete_cmd_prefix": "rm(",
     "library": "var_list.r",
     "varRefreshCmd": "cat(var_dic_list()) "
    }
   },
   "types_to_exclude": [
    "module",
    "function",
    "builtin_function_or_method",
    "instance",
    "_Feature"
   ],
   "window_display": false
  }
 },
 "nbformat": 4,
 "nbformat_minor": 2
}
